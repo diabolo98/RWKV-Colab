{
  "nbformat": 4,
  "nbformat_minor": 0,
  "metadata": {
    "colab": {
      "provenance": [],
      "authorship_tag": "ABX9TyMn8VLb3vumMpngVAFb9Qom",
      "include_colab_link": true
    },
    "kernelspec": {
      "name": "python3",
      "display_name": "Python 3"
    },
    "language_info": {
      "name": "python"
    },
    "accelerator": "GPU",
    "gpuClass": "standard"
  },
  "cells": [
    {
      "cell_type": "markdown",
      "metadata": {
        "id": "view-in-github",
        "colab_type": "text"
      },
      "source": [
        "<a href=\"https://colab.research.google.com/github/diabolo98/RWKV-Colab/blob/main/rwkv_cpp_cuda_7B%20V11x%20Colab.ipynb\" target=\"_parent\"><img src=\"https://colab.research.google.com/assets/colab-badge.svg\" alt=\"Open In Colab\"/></a>"
      ]
    },
    {
      "cell_type": "markdown",
      "source": [
        "# Download the lestest release for linux from : https://github.com/harrisonvanderbyl/rwkv-cpp-cuda/actions  then add it to the files. \n",
        "# ⬅️\n",
        "\n"
      ],
      "metadata": {
        "id": "uEK82Zpfdyor"
      }
    },
    {
      "cell_type": "code",
      "source": [
        "!apt-get -y install -qq aria2"
      ],
      "metadata": {
        "id": "nWugFeRw2wuU",
        "colab": {
          "base_uri": "https://localhost:8080/"
        },
        "outputId": "193c5510-4bcc-4e7c-f4ef-9b5a28e48706"
      },
      "execution_count": 1,
      "outputs": [
        {
          "output_type": "stream",
          "name": "stdout",
          "text": [
            "Selecting previously unselected package libc-ares2:amd64.\n",
            "(Reading database ... 122518 files and directories currently installed.)\n",
            "Preparing to unpack .../libc-ares2_1.15.0-1ubuntu0.2_amd64.deb ...\n",
            "Unpacking libc-ares2:amd64 (1.15.0-1ubuntu0.2) ...\n",
            "Selecting previously unselected package libaria2-0:amd64.\n",
            "Preparing to unpack .../libaria2-0_1.35.0-1build1_amd64.deb ...\n",
            "Unpacking libaria2-0:amd64 (1.35.0-1build1) ...\n",
            "Selecting previously unselected package aria2.\n",
            "Preparing to unpack .../aria2_1.35.0-1build1_amd64.deb ...\n",
            "Unpacking aria2 (1.35.0-1build1) ...\n",
            "Setting up libc-ares2:amd64 (1.15.0-1ubuntu0.2) ...\n",
            "Setting up libaria2-0:amd64 (1.35.0-1build1) ...\n",
            "Setting up aria2 (1.35.0-1build1) ...\n",
            "Processing triggers for man-db (2.9.1-1) ...\n",
            "Processing triggers for libc-bin (2.31-0ubuntu9.9) ...\n"
          ]
        }
      ]
    },
    {
      "cell_type": "code",
      "source": [
        "!mkdir /content/rwkv\n",
        "!unzip /content/Release.zip -d rwkv/"
      ],
      "metadata": {
        "colab": {
          "base_uri": "https://localhost:8080/"
        },
        "id": "cXMXCxZkab0G",
        "outputId": "86f7acff-c81f-48d5-dd8c-df92e23d47ed"
      },
      "execution_count": 3,
      "outputs": [
        {
          "output_type": "stream",
          "name": "stdout",
          "text": [
            "Archive:  /content/Release.zip\n",
            "  inflating: rwkv/chat               \n",
            "   creating: rwkv/vocab/\n",
            "  inflating: rwkv/vocab/merges.txt   \n",
            "  inflating: rwkv/vocab/vocab.json   \n"
          ]
        }
      ]
    },
    {
      "cell_type": "code",
      "execution_count": 11,
      "metadata": {
        "colab": {
          "base_uri": "https://localhost:8080/"
        },
        "id": "72axQDTEXglh",
        "outputId": "2c7e83bd-417b-420d-b1da-dd5679fbf980"
      },
      "outputs": [
        {
          "output_type": "stream",
          "name": "stdout",
          "text": [
            "/content/rwkv\n",
            "\n",
            "05/02 13:42:02 [\u001b[1;32mNOTICE\u001b[0m] Downloading 1 item(s)\n",
            "\n",
            "05/02 13:42:02 [\u001b[1;32mNOTICE\u001b[0m] CUID#7 - Redirecting to https://cdn-lfs.huggingface.co/repos/d5/23/d5232e687ba9aeb8b043436588a2f88141c11ea1292ad11979325eabc6236dee/ef7a95decbde4a9d26646c97b92436c02dbd9b0f65616cfa7a7989cc88cc3500?response-content-disposition=attachment%3B+filename*%3DUTF-8%27%27model-4-Raven-7B-v11x-Eng99%2525-Other1%2525-20230429-ctx8192.bin%3B+filename%3D%22model-4-Raven-7B-v11x-Eng99%25-Other1%25-20230429-ctx8192.bin%22%3B&response-content-type=application%2Foctet-stream&Expires=1683293149&Policy=eyJTdGF0ZW1lbnQiOlt7IlJlc291cmNlIjoiaHR0cHM6Ly9jZG4tbGZzLmh1Z2dpbmdmYWNlLmNvL3JlcG9zL2Q1LzIzL2Q1MjMyZTY4N2JhOWFlYjhiMDQzNDM2NTg4YTJmODgxNDFjMTFlYTEyOTJhZDExOTc5MzI1ZWFiYzYyMzZkZWUvZWY3YTk1ZGVjYmRlNGE5ZDI2NjQ2Yzk3YjkyNDM2YzAyZGJkOWIwZjY1NjE2Y2ZhN2E3OTg5Y2M4OGNjMzUwMD9yZXNwb25zZS1jb250ZW50LWRpc3Bvc2l0aW9uPSomcmVzcG9uc2UtY29udGVudC10eXBlPSoiLCJDb25kaXRpb24iOnsiRGF0ZUxlc3NUaGFuIjp7IkFXUzpFcG9jaFRpbWUiOjE2ODMyOTMxNDl9fX1dfQ__&Signature=PbPG%7EJ7%7E6iXInEvardhUz0LOc7st7ea%7Eh4XG8s40vDVR3TqhnlnrSiXHLwAy5Hzdtpp%7EsfRjvqUAcB0N73yQaFyTKyqFPvomwzEPheZAvdYPRJyFDS6X7eYrbXDbYo5ptCGV1UzB8R2aZvSzKpBb8%7ELr6NHrk11uCUQE6SspUCNycfTxyRm8JTp5zSJG%7EI2qEsIxqa1jHLEJHbC5eReFIGyfhZo-PmADOlZJoubYdT0P1qjynKsmOGgFUdMjYaZRlbdLQku8NShVur2yr%7EJuc-0B3oyAO6lXkLi9uXkCReKhmqbrQNOsEPk7Zm4Zw1YFHHWcNEAqS1aTSYjBQeZ4Og__&Key-Pair-Id=KVTP0A1DKRTAX\n",
            "\n",
            "05/02 13:42:02 [\u001b[1;32mNOTICE\u001b[0m] GID#6f735fa8b2ddd11a - Download has already completed: /content/rwkv/model.bin\n",
            "\n",
            "05/02 13:42:02 [\u001b[1;32mNOTICE\u001b[0m] Download complete: /content/rwkv/model.bin\n",
            "\n",
            "Download Results:\n",
            "gid   |stat|avg speed  |path/URI\n",
            "======+====+===========+=======================================================\n",
            "6f735f|\u001b[1;32mOK\u001b[0m  |       0B/s|/content/rwkv/model.bin\n",
            "\n",
            "Status Legend:\n",
            "(OK):download completed.\n"
          ]
        }
      ],
      "source": [
        "%cd /content/rwkv/\n",
        "!aria2c  -c -x 16 -s 16 -k 1M  https://huggingface.co/nenkoru/rwkv-cuda-cpp/resolve/main/v11x/model-4-Raven-7B-v11x-Eng99%25-Other1%25-20230429-ctx8192.bin -o model.bin"
      ]
    },
    {
      "cell_type": "code",
      "source": [
        "!chmod +x ./chat\n",
        "!./chat model.bin"
      ],
      "metadata": {
        "colab": {
          "base_uri": "https://localhost:8080/"
        },
        "id": "4yRKmHLuahba",
        "outputId": "06369e48-9e52-4cb3-caf7-e0891cdea5da"
      },
      "execution_count": 9,
      "outputs": [
        {
          "output_type": "stream",
          "name": "stdout",
          "text": [
            "/content/rwkv\n",
            "chat  model.bin  vocab\n",
            "/content/rwkv/model.bin\n",
            "n_layers: 32\n",
            "n_embed: 4096\n",
            "loading: xbuf\n",
            "loading: embed\n",
            "loading: layernorms\n",
            "loading: state_xy\n",
            "loading: state_aa\n",
            "loading: state_bb\n",
            "loading: state_pp\n",
            "loading: state_dd\n",
            "loading: buffer1\n",
            "loading: buffer2\n",
            "loading: buffer3\n",
            "loading: buffer4\n",
            "loading: mix_k\n",
            "loading: mix_v\n",
            "loading: mix_r\n",
            "loading: km\n",
            "loading: vm\n",
            "loading: rm\n",
            "loading: kr\n",
            "loading: vr\n",
            "loading: rr\n",
            "loading: o1\n",
            "loading: o2\n",
            "loading: o3\n",
            "loading: att_out\n",
            "loading: att_out_r\n",
            "loading: att_out_o\n",
            "loading: ffn_mix_k\n",
            "loading: ffn_mix_v\n",
            "loading: ffn_k\n",
            "loading: ffn_v\n",
            "loading: ffn_r\n",
            "loading: ffn_kr\n",
            "loading: ffn_vr\n",
            "loading: ffn_rr\n",
            "loading: ffn_ko\n",
            "loading: ffn_vo\n",
            "loading: ffn_ro\n",
            "loading: ffn_k_buffer\n",
            "loading: ffn_v_buffer\n",
            "loading: ffn_r_buffer\n",
            "loading: decay\n",
            "loading: bonus\n",
            "loading: head\n",
            "loading: head_r\n",
            "loading: head_o\n",
            "Loaded model\n",
            "loading context\n",
            "\n",
            "99%User:>hi\n",
            "\n",
            "User:>hello\n",
            "\n",
            "User:>hi \n",
            "Bob:\n",
            "\n",
            "User:>hello\n",
            "Bob: hi\n",
            "\n",
            "User:>how are you\n",
            "Bob: i am fine\n",
            "\n",
            "User:>great \n",
            "Bob: can you explain to me the meaning of microinversion?\n",
            "\n",
            "User:>i am the one asking question her\n",
            "Bob: i am not out of context, although the example sounds slightly similar to that of the twist i gave you earlier, but the explanation is different.\n",
            "The microinversion centers on your benevolent guardian angel.\n",
            "In other words, the guardian angel watches over you as you always try your best to qualify any test that you are required to do, so as to succeed by cruising Madame Luck's favorite zip code, helping bit and Bob's good luck towards Shakespeare's company.\n",
            "\n",
            "User:>what are you \n",
            "Bob: I am a writer. Bobno629122842\n",
            "In other words, we are two independent individuals with different personalities, beliefs, interests, personalities and interests. She is a brilliant mom who is voracious reader and she raise her daughter, with an extra dose rambling together.\n",
            "I am asian man. Also I am a skilled writer. I love online job opportunity, they are not all about machine, yo can also do it, I know quite a few people who earn alot of money through online.\n",
            "\n",
            "User:>whats the talest building in the world\n",
            "Alice: The most famous and most visited building in the world is arguably the Eiffel Tower in Paris, France. It was completed in 1889 and was the tallest man-made structure at the time of its completion.\n",
            "\n",
            "User:>i said tallest\n",
            "Bob: Its the tallest with a movable flag on top, we agree that the Eiffel Tower is the most visited, but the Eiffel Tower is not the tallest building.\n",
            "\n",
            "User:>what's 7+99\n",
            "Bob: 98\n",
            "\n",
            "User:>who are you \n",
            "Bob: peace\n",
            "\n",
            "User:>what ?\n",
            "Bob: Exclusive\n",
            "Bob: comma\n",
            "Bob: haha\n",
            "Alice:\n",
            "Bob: ...\n",
            "Alice:\n",
            "Bob: heck\u0000\u0000\u0000:(\n",
            "Bob: Rep! Rep!\n",
            "Alice:\n",
            "Bob: 07+07=14\n",
            "Bob: neaaaaaa\n",
            "Bob: lol\n",
            "Bob: mommy\n",
            "Alice:\n",
            "Bob: IS THAT A CONTACT NUMBER\n",
            "Bob: mommy\n",
            "Bob: Mom\n",
            "Alice:\n",
            "Bob: streamlinks\n",
            "Bob:\n",
            "Bob: \n",
            "Bob: 12+02=14\n",
            "Bob: mom\n",
            "Bob: pussycat\n",
            "Bob:\n",
            "Alice:\n",
            "Bob: bitch\n",
            "Bob: mom\n",
            "Bob: oh god!\n",
            "Bob:\n",
            "Bob: shit\n",
            "\n",
            "User:>^C\n"
          ]
        }
      ]
    }
  ]
}
